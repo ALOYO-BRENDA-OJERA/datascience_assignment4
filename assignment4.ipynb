{
 "cells": [
  {
   "cell_type": "code",
   "execution_count": 1,
   "metadata": {},
   "outputs": [],
   "source": [
    "\n",
    "students_name=(\"Adokorac Nancy\",\"Amutuhaire Faith Ahabwe\",\"KWAGALA JOANNA VICTOR\",\"mahoro cathy\",\"Mbabazi Hawa Bint Edrisa\",\"Nakanjako josephine\",\"Nanteza Dorcus\",\"Mbabazi Angel\",\"Namara Racheal\",\"wamulungi Sheillah\",\"Nakawuka Sandra\",\"Achola Gloria Fortunate\",\"Nagawa Esther\",\"wanjiku hananny\",\"babirye Sandra\",\"nakagga shanitah\",\"Wembabazi Vivian Ritah\",\"Nanziri Ritah Namayanja\",\"Nasejje Mariam\",\"Namukose Jolline Edriana\",\"Agatha Faith\",\"AnyangoKirabo Sarah\",\"Nansalire Anitah\",\"Nalugo gladys\",\"Namakula Allen\",\"Tukahirwa emily\",\"Shamirah Ahmed\",\"Ameso lmmaculate\",\"Ayoo Teddy\",\"Biira Mary\",\"Aloyo Brenda Ojer\",\"Ayebale Immaculate\")\n",
    "\n"
   ]
  },
  {
   "cell_type": "code",
   "execution_count": 2,
   "metadata": {},
   "outputs": [],
   "source": [
    "students_age=(20,27,21,23,19,24,21,19,19,22,25,27,21,19,21,21,20,23,20,20,27,23,21,19,20,22,21,23,20,30)"
   ]
  },
  {
   "cell_type": "code",
   "execution_count": 3,
   "metadata": {},
   "outputs": [],
   "source": [
    "students_weight=(74,47,54,30,59,65,69,57,55,78,60,80,58,50,50,49,70,62,55,55,60,45,70,55,67,67,64,50,65)"
   ]
  },
  {
   "cell_type": "code",
   "execution_count": 4,
   "metadata": {},
   "outputs": [],
   "source": [
    "students_height=(177.8,157.48,185.42,185.42,175.26,175.26,157.48,167.64,154.94,162.56,175.26,172.72,188.42,165.1,175.26,175.26,160.02,162.56,101.6,162.56,93.98,165.1,63.5,101.6,170.18,175.26,137.16,165.1,157.48,104.14,170.18,162.56)"
   ]
  },
  {
   "cell_type": "code",
   "execution_count": 5,
   "metadata": {},
   "outputs": [],
   "source": [
    "import numpy as np"
   ]
  },
  {
   "cell_type": "code",
   "execution_count": 11,
   "metadata": {},
   "outputs": [
    {
     "name": "stdout",
     "output_type": "stream",
     "text": [
      "20.5625\n",
      "20.5625\n"
     ]
    }
   ],
   "source": [
    "mean_of_students_age=sum(students_age)/32\n",
    "print(mean_of_students_age)\n",
    "mean_of_students_age=np.mean(mean_of_students_age)\n",
    "print(mean_of_students_age)"
   ]
  },
  {
   "cell_type": "code",
   "execution_count": 12,
   "metadata": {},
   "outputs": [
    {
     "name": "stdout",
     "output_type": "stream",
     "text": [
      "2.780087928265739\n"
     ]
    }
   ],
   "source": [
    "standard_deviation_of_students_age=np.std(students_age)\n",
    "print(standard_deviation_of_students_age)"
   ]
  },
  {
   "cell_type": "code",
   "execution_count": 14,
   "metadata": {},
   "outputs": [
    {
     "name": "stdout",
     "output_type": "stream",
     "text": [
      "7.728888888888889\n"
     ]
    }
   ],
   "source": [
    "variance_of_students_age=np.var(students_age)\n",
    "print(variance_of_students_age)"
   ]
  },
  {
   "cell_type": "code",
   "execution_count": 15,
   "metadata": {},
   "outputs": [
    {
     "name": "stdout",
     "output_type": "stream",
     "text": [
      "59.310344827586206\n"
     ]
    }
   ],
   "source": [
    "mean_of_students_weight=np.mean(students_weight)\n",
    "print(mean_of_students_weight)"
   ]
  },
  {
   "cell_type": "code",
   "execution_count": 16,
   "metadata": {},
   "outputs": [
    {
     "name": "stdout",
     "output_type": "stream",
     "text": [
      "10.537628628988271\n"
     ]
    }
   ],
   "source": [
    "standard_deviation_of_students_weight=np.std(students_weight)\n",
    "print(standard_deviation_of_students_weight)"
   ]
  },
  {
   "cell_type": "code",
   "execution_count": 17,
   "metadata": {},
   "outputs": [
    {
     "name": "stdout",
     "output_type": "stream",
     "text": [
      "111.04161712247324\n"
     ]
    }
   ],
   "source": [
    "variance_of_students_weight=np.var(students_weight)\n",
    "print(variance_of_students_weight)"
   ]
  },
  {
   "cell_type": "code",
   "execution_count": 18,
   "metadata": {},
   "outputs": [
    {
     "name": "stdout",
     "output_type": "stream",
     "text": [
      "156.383125\n"
     ]
    }
   ],
   "source": [
    "mean_of_students_height=np.mean(students_height)\n",
    "print(mean_of_students_height)"
   ]
  },
  {
   "cell_type": "code",
   "execution_count": 19,
   "metadata": {},
   "outputs": [
    {
     "name": "stdout",
     "output_type": "stream",
     "text": [
      "878.3070527343749\n"
     ]
    }
   ],
   "source": [
    "variance_of_students_height=np.var(students_height)\n",
    "print(variance_of_students_height)"
   ]
  },
  {
   "cell_type": "code",
   "execution_count": 20,
   "metadata": {},
   "outputs": [
    {
     "name": "stdout",
     "output_type": "stream",
     "text": [
      "10.537628628988271\n"
     ]
    }
   ],
   "source": [
    "standard_deviation_of_students_height=np.std(students_weight)\n",
    "print(standard_deviation_of_students_height)"
   ]
  }
 ],
 "metadata": {
  "kernelspec": {
   "display_name": "Python 3",
   "language": "python",
   "name": "python3"
  },
  "language_info": {
   "codemirror_mode": {
    "name": "ipython",
    "version": 3
   },
   "file_extension": ".py",
   "mimetype": "text/x-python",
   "name": "python",
   "nbconvert_exporter": "python",
   "pygments_lexer": "ipython3",
   "version": "3.11.4"
  },
  "orig_nbformat": 4
 },
 "nbformat": 4,
 "nbformat_minor": 2
}
